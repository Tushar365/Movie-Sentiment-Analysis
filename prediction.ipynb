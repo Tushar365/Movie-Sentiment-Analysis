{
 "cells": [
  {
   "cell_type": "code",
   "execution_count": 28,
   "metadata": {},
   "outputs": [],
   "source": [
    "# importing python libraries and methods\n",
    "import numpy as np\n",
    "import tensorflow as tf \n",
    "from tensorflow.keras.datasets import imdb\n",
    "from tensorflow.keras.preprocessing.sequence import pad_sequences\n",
    "from tensorflow.keras.models import load_model\n"
   ]
  },
  {
   "cell_type": "code",
   "execution_count": 29,
   "metadata": {},
   "outputs": [],
   "source": [
    "# load word index and reverse word index\n",
    "word_index=imdb.get_word_index()\n",
    "reverse_word_index={value:key for key, value in word_index.items()}"
   ]
  },
  {
   "cell_type": "code",
   "execution_count": 30,
   "metadata": {},
   "outputs": [
    {
     "name": "stderr",
     "output_type": "stream",
     "text": [
      "WARNING:absl:Compiled the loaded model, but the compiled metrics have yet to be built. `model.compile_metrics` will be empty until you train or evaluate the model.\n"
     ]
    }
   ],
   "source": [
    "# load trained model with relu activion:\n",
    "model= load_model('123.h5')\n"
   ]
  },
  {
   "cell_type": "code",
   "execution_count": 31,
   "metadata": {},
   "outputs": [
    {
     "data": {
      "text/html": [
       "<pre style=\"white-space:pre;overflow-x:auto;line-height:normal;font-family:Menlo,'DejaVu Sans Mono',consolas,'Courier New',monospace\"><span style=\"font-weight: bold\">Model: \"sequential\"</span>\n",
       "</pre>\n"
      ],
      "text/plain": [
       "\u001b[1mModel: \"sequential\"\u001b[0m\n"
      ]
     },
     "metadata": {},
     "output_type": "display_data"
    },
    {
     "data": {
      "text/html": [
       "<pre style=\"white-space:pre;overflow-x:auto;line-height:normal;font-family:Menlo,'DejaVu Sans Mono',consolas,'Courier New',monospace\">┏━━━━━━━━━━━━━━━━━━━━━━━━━━━━━━━━━┳━━━━━━━━━━━━━━━━━━━━━━━━┳━━━━━━━━━━━━━━━┓\n",
       "┃<span style=\"font-weight: bold\"> Layer (type)                    </span>┃<span style=\"font-weight: bold\"> Output Shape           </span>┃<span style=\"font-weight: bold\">       Param # </span>┃\n",
       "┡━━━━━━━━━━━━━━━━━━━━━━━━━━━━━━━━━╇━━━━━━━━━━━━━━━━━━━━━━━━╇━━━━━━━━━━━━━━━┩\n",
       "│ embedding (<span style=\"color: #0087ff; text-decoration-color: #0087ff\">Embedding</span>)           │ (<span style=\"color: #00d7ff; text-decoration-color: #00d7ff\">None</span>, <span style=\"color: #00af00; text-decoration-color: #00af00\">500</span>, <span style=\"color: #00af00; text-decoration-color: #00af00\">128</span>)       │     <span style=\"color: #00af00; text-decoration-color: #00af00\">1,280,000</span> │\n",
       "├─────────────────────────────────┼────────────────────────┼───────────────┤\n",
       "│ simple_rnn (<span style=\"color: #0087ff; text-decoration-color: #0087ff\">SimpleRNN</span>)          │ (<span style=\"color: #00d7ff; text-decoration-color: #00d7ff\">None</span>, <span style=\"color: #00af00; text-decoration-color: #00af00\">128</span>)            │        <span style=\"color: #00af00; text-decoration-color: #00af00\">32,896</span> │\n",
       "├─────────────────────────────────┼────────────────────────┼───────────────┤\n",
       "│ dense (<span style=\"color: #0087ff; text-decoration-color: #0087ff\">Dense</span>)                   │ (<span style=\"color: #00d7ff; text-decoration-color: #00d7ff\">None</span>, <span style=\"color: #00af00; text-decoration-color: #00af00\">1</span>)              │           <span style=\"color: #00af00; text-decoration-color: #00af00\">129</span> │\n",
       "└─────────────────────────────────┴────────────────────────┴───────────────┘\n",
       "</pre>\n"
      ],
      "text/plain": [
       "┏━━━━━━━━━━━━━━━━━━━━━━━━━━━━━━━━━┳━━━━━━━━━━━━━━━━━━━━━━━━┳━━━━━━━━━━━━━━━┓\n",
       "┃\u001b[1m \u001b[0m\u001b[1mLayer (type)                   \u001b[0m\u001b[1m \u001b[0m┃\u001b[1m \u001b[0m\u001b[1mOutput Shape          \u001b[0m\u001b[1m \u001b[0m┃\u001b[1m \u001b[0m\u001b[1m      Param #\u001b[0m\u001b[1m \u001b[0m┃\n",
       "┡━━━━━━━━━━━━━━━━━━━━━━━━━━━━━━━━━╇━━━━━━━━━━━━━━━━━━━━━━━━╇━━━━━━━━━━━━━━━┩\n",
       "│ embedding (\u001b[38;5;33mEmbedding\u001b[0m)           │ (\u001b[38;5;45mNone\u001b[0m, \u001b[38;5;34m500\u001b[0m, \u001b[38;5;34m128\u001b[0m)       │     \u001b[38;5;34m1,280,000\u001b[0m │\n",
       "├─────────────────────────────────┼────────────────────────┼───────────────┤\n",
       "│ simple_rnn (\u001b[38;5;33mSimpleRNN\u001b[0m)          │ (\u001b[38;5;45mNone\u001b[0m, \u001b[38;5;34m128\u001b[0m)            │        \u001b[38;5;34m32,896\u001b[0m │\n",
       "├─────────────────────────────────┼────────────────────────┼───────────────┤\n",
       "│ dense (\u001b[38;5;33mDense\u001b[0m)                   │ (\u001b[38;5;45mNone\u001b[0m, \u001b[38;5;34m1\u001b[0m)              │           \u001b[38;5;34m129\u001b[0m │\n",
       "└─────────────────────────────────┴────────────────────────┴───────────────┘\n"
      ]
     },
     "metadata": {},
     "output_type": "display_data"
    },
    {
     "data": {
      "text/html": [
       "<pre style=\"white-space:pre;overflow-x:auto;line-height:normal;font-family:Menlo,'DejaVu Sans Mono',consolas,'Courier New',monospace\"><span style=\"font-weight: bold\"> Total params: </span><span style=\"color: #00af00; text-decoration-color: #00af00\">1,313,027</span> (5.01 MB)\n",
       "</pre>\n"
      ],
      "text/plain": [
       "\u001b[1m Total params: \u001b[0m\u001b[38;5;34m1,313,027\u001b[0m (5.01 MB)\n"
      ]
     },
     "metadata": {},
     "output_type": "display_data"
    },
    {
     "data": {
      "text/html": [
       "<pre style=\"white-space:pre;overflow-x:auto;line-height:normal;font-family:Menlo,'DejaVu Sans Mono',consolas,'Courier New',monospace\"><span style=\"font-weight: bold\"> Trainable params: </span><span style=\"color: #00af00; text-decoration-color: #00af00\">1,313,025</span> (5.01 MB)\n",
       "</pre>\n"
      ],
      "text/plain": [
       "\u001b[1m Trainable params: \u001b[0m\u001b[38;5;34m1,313,025\u001b[0m (5.01 MB)\n"
      ]
     },
     "metadata": {},
     "output_type": "display_data"
    },
    {
     "data": {
      "text/html": [
       "<pre style=\"white-space:pre;overflow-x:auto;line-height:normal;font-family:Menlo,'DejaVu Sans Mono',consolas,'Courier New',monospace\"><span style=\"font-weight: bold\"> Non-trainable params: </span><span style=\"color: #00af00; text-decoration-color: #00af00\">0</span> (0.00 B)\n",
       "</pre>\n"
      ],
      "text/plain": [
       "\u001b[1m Non-trainable params: \u001b[0m\u001b[38;5;34m0\u001b[0m (0.00 B)\n"
      ]
     },
     "metadata": {},
     "output_type": "display_data"
    },
    {
     "data": {
      "text/html": [
       "<pre style=\"white-space:pre;overflow-x:auto;line-height:normal;font-family:Menlo,'DejaVu Sans Mono',consolas,'Courier New',monospace\"><span style=\"font-weight: bold\"> Optimizer params: </span><span style=\"color: #00af00; text-decoration-color: #00af00\">2</span> (12.00 B)\n",
       "</pre>\n"
      ],
      "text/plain": [
       "\u001b[1m Optimizer params: \u001b[0m\u001b[38;5;34m2\u001b[0m (12.00 B)\n"
      ]
     },
     "metadata": {},
     "output_type": "display_data"
    }
   ],
   "source": [
    "# Model summary\n",
    "model.summary()"
   ]
  },
  {
   "cell_type": "code",
   "execution_count": 32,
   "metadata": {},
   "outputs": [
    {
     "data": {
      "text/plain": [
       "[array([[-0.04824243,  0.09510817, -0.00536298, ...,  0.05663169,\n",
       "          0.04183947,  0.10199168],\n",
       "        [-0.0061185 ,  0.02661764, -0.01137083, ...,  0.0809389 ,\n",
       "          0.01422173, -0.01489184],\n",
       "        [ 0.01779595, -0.01552939,  0.04459708, ...,  0.00031745,\n",
       "         -0.0438331 ,  0.00234586],\n",
       "        ...,\n",
       "        [ 0.0389569 ,  0.01993934,  0.09772092, ..., -0.04210233,\n",
       "         -0.02236824,  0.00798571],\n",
       "        [-0.12158806, -0.00277868, -0.06621958, ..., -0.05792495,\n",
       "          0.01086356, -0.02370176],\n",
       "        [ 0.02337086, -0.05972062,  0.05154707, ..., -0.12269322,\n",
       "         -0.02466689,  0.02113071]], dtype=float32),\n",
       " array([[-0.22936223, -0.29644868,  0.10330581, ...,  0.02014047,\n",
       "          0.04563169, -0.06771702],\n",
       "        [ 0.03112663,  0.12883541,  0.06281009, ...,  0.15636037,\n",
       "         -0.19648214, -0.03691177],\n",
       "        [-0.20793487, -0.24030471,  0.04899599, ..., -0.00395706,\n",
       "         -0.04775747,  0.07657973],\n",
       "        ...,\n",
       "        [ 0.37065202,  0.40628603, -0.4197934 , ...,  0.06972247,\n",
       "         -0.26889881, -0.07683432],\n",
       "        [ 0.11670578,  0.29621515, -0.29943696, ..., -0.24147919,\n",
       "         -0.0598764 , -0.00161803],\n",
       "        [ 0.09873556, -0.00058427, -0.05368374, ...,  0.1137238 ,\n",
       "         -0.02934664,  0.07266447]], dtype=float32),\n",
       " array([[-0.09703664,  0.0223891 , -0.06936196, ..., -0.11836281,\n",
       "         -0.26231745, -0.07615301],\n",
       "        [-0.04219094,  0.06508165, -0.11190689, ..., -0.15244332,\n",
       "         -0.00409603,  0.110612  ],\n",
       "        [-0.053919  , -0.24204123, -0.04151843, ...,  0.03153034,\n",
       "         -0.00291706,  0.07544228],\n",
       "        ...,\n",
       "        [ 0.19182555, -0.13413179, -0.1032386 , ..., -0.29347363,\n",
       "          0.02605743,  0.06643986],\n",
       "        [ 0.03501431,  0.05674022, -0.02453781, ..., -0.00292348,\n",
       "          0.07612875,  0.08929629],\n",
       "        [ 0.0543956 , -0.03017576, -0.01877728, ...,  0.02935022,\n",
       "          0.05674129,  0.03702252]], dtype=float32),\n",
       " array([-0.00990606,  0.00639977,  0.03735543,  0.00253567, -0.04726264,\n",
       "        -0.03503322,  0.02169912,  0.02868914,  0.01641117, -0.03421745,\n",
       "        -0.03218507,  0.0040298 ,  0.04930027, -0.00592007,  0.02820446,\n",
       "         0.02602929,  0.01968695, -0.00101095,  0.02477558, -0.03739241,\n",
       "         0.01356832, -0.01291518, -0.04038085,  0.00595459, -0.00736966,\n",
       "        -0.02163749,  0.02361958,  0.04371727, -0.01059663,  0.03082605,\n",
       "        -0.00218541, -0.06111174,  0.02549933, -0.00220536, -0.00214189,\n",
       "         0.02481778,  0.01446061,  0.02349899,  0.03032194, -0.01393089,\n",
       "        -0.00557496, -0.02312537,  0.01443607, -0.00072612,  0.04051824,\n",
       "         0.00967885,  0.03372098, -0.0158696 , -0.05690002,  0.01620976,\n",
       "        -0.00526824, -0.05941744,  0.04084038, -0.00640263,  0.01431119,\n",
       "         0.03246999, -0.00800678,  0.02952586,  0.02098208,  0.03210038,\n",
       "         0.03911838, -0.03469048,  0.02505561, -0.00185914,  0.03258215,\n",
       "         0.03444714,  0.00256244,  0.02838718,  0.03426842,  0.01979521,\n",
       "        -0.01719552, -0.04968053,  0.01216411,  0.00601162,  0.00027798,\n",
       "         0.00512294, -0.00435937,  0.01317682, -0.02552707, -0.01344744,\n",
       "         0.01493067, -0.00719187, -0.03502553, -0.03102645,  0.01264966,\n",
       "        -0.01105448, -0.0386455 , -0.05932122,  0.00929273, -0.02566448,\n",
       "         0.00776756,  0.05422085,  0.02184467, -0.0175812 ,  0.00520195,\n",
       "        -0.02863867, -0.00830503, -0.03809933, -0.01305062,  0.02264865,\n",
       "         0.01636158,  0.03036949, -0.01101606,  0.04706316, -0.05726784,\n",
       "         0.05240372,  0.02280047,  0.00011737,  0.01693483, -0.02114681,\n",
       "        -0.01380814,  0.01221452, -0.03070475, -0.01669545, -0.03792096,\n",
       "         0.02194329, -0.02092638, -0.05108773,  0.02106612, -0.06585235,\n",
       "         0.0039323 , -0.01307519,  0.02097505,  0.01222476, -0.04748427,\n",
       "         0.02771619, -0.05187983, -0.05607814], dtype=float32),\n",
       " array([[-1.38110399e-01],\n",
       "        [-3.97457600e-01],\n",
       "        [ 1.63195550e-01],\n",
       "        [-7.75713995e-02],\n",
       "        [-8.22429955e-02],\n",
       "        [ 2.63831407e-01],\n",
       "        [ 2.97424465e-01],\n",
       "        [ 2.03354344e-01],\n",
       "        [ 3.50061059e-01],\n",
       "        [ 4.90525812e-02],\n",
       "        [-3.45577369e-04],\n",
       "        [-7.13463575e-02],\n",
       "        [ 4.94687371e-02],\n",
       "        [ 2.14737177e-01],\n",
       "        [ 7.20189884e-02],\n",
       "        [ 1.17860474e-01],\n",
       "        [-2.46913284e-02],\n",
       "        [-1.48731321e-01],\n",
       "        [-7.03924224e-02],\n",
       "        [ 5.11103384e-02],\n",
       "        [-6.51680529e-02],\n",
       "        [-6.55215681e-02],\n",
       "        [ 1.59717843e-01],\n",
       "        [ 2.70634711e-01],\n",
       "        [-6.85366094e-02],\n",
       "        [ 1.97144508e-01],\n",
       "        [ 1.60768703e-01],\n",
       "        [-3.03017814e-03],\n",
       "        [-2.25618795e-01],\n",
       "        [-8.15346688e-02],\n",
       "        [-1.25196669e-02],\n",
       "        [-1.90378249e-01],\n",
       "        [-4.17057984e-02],\n",
       "        [-1.56788245e-01],\n",
       "        [-1.29384711e-01],\n",
       "        [-1.17675819e-01],\n",
       "        [ 1.45746931e-01],\n",
       "        [ 2.81631887e-01],\n",
       "        [-1.75509065e-01],\n",
       "        [ 1.84340119e-01],\n",
       "        [ 1.03489436e-01],\n",
       "        [-1.64814517e-01],\n",
       "        [-6.35707527e-02],\n",
       "        [-1.15760870e-01],\n",
       "        [ 1.85624346e-01],\n",
       "        [-7.42910430e-02],\n",
       "        [-1.80276722e-01],\n",
       "        [ 1.89472720e-01],\n",
       "        [-2.27334887e-01],\n",
       "        [ 1.19877189e-01],\n",
       "        [ 1.02434389e-01],\n",
       "        [-1.62102133e-01],\n",
       "        [ 4.03312184e-02],\n",
       "        [ 2.47996122e-01],\n",
       "        [-2.52391547e-01],\n",
       "        [ 2.09124535e-01],\n",
       "        [ 3.86634350e-01],\n",
       "        [-2.45637745e-02],\n",
       "        [ 1.57897696e-02],\n",
       "        [ 2.35844508e-01],\n",
       "        [ 1.85117453e-01],\n",
       "        [-5.63832112e-02],\n",
       "        [-1.42629474e-01],\n",
       "        [ 1.96650207e-01],\n",
       "        [-3.87850069e-02],\n",
       "        [-2.01305971e-01],\n",
       "        [-3.62365022e-02],\n",
       "        [ 1.82105273e-01],\n",
       "        [-2.37312049e-01],\n",
       "        [ 1.81313738e-01],\n",
       "        [ 8.55438635e-02],\n",
       "        [-3.67430318e-03],\n",
       "        [ 1.86299846e-01],\n",
       "        [-1.92139938e-01],\n",
       "        [ 1.41904235e-01],\n",
       "        [-1.41517576e-02],\n",
       "        [-5.63063845e-02],\n",
       "        [ 4.80589736e-03],\n",
       "        [-1.16450801e-01],\n",
       "        [-3.51320386e-01],\n",
       "        [ 1.64263949e-01],\n",
       "        [ 3.07910293e-01],\n",
       "        [ 2.09778339e-01],\n",
       "        [ 9.32811722e-02],\n",
       "        [-8.24552625e-02],\n",
       "        [ 4.34900597e-02],\n",
       "        [ 4.52210307e-02],\n",
       "        [ 5.06602675e-02],\n",
       "        [ 1.49583519e-01],\n",
       "        [ 1.40471458e-01],\n",
       "        [-2.31058329e-01],\n",
       "        [-9.44917053e-02],\n",
       "        [ 1.47240117e-01],\n",
       "        [-1.22843914e-01],\n",
       "        [-1.66068658e-01],\n",
       "        [-2.37309281e-02],\n",
       "        [-1.60296932e-01],\n",
       "        [-1.36279926e-01],\n",
       "        [ 1.09859549e-01],\n",
       "        [ 6.50439858e-02],\n",
       "        [-5.14737368e-02],\n",
       "        [ 1.58483163e-01],\n",
       "        [ 1.27274469e-01],\n",
       "        [-1.91766322e-01],\n",
       "        [ 1.27027845e-02],\n",
       "        [ 2.53269225e-02],\n",
       "        [-9.44308192e-02],\n",
       "        [-1.57813460e-01],\n",
       "        [-2.70831853e-01],\n",
       "        [-9.82179344e-02],\n",
       "        [-8.66731331e-02],\n",
       "        [-4.01586220e-02],\n",
       "        [-5.99727780e-02],\n",
       "        [ 1.43723890e-01],\n",
       "        [ 1.45732239e-01],\n",
       "        [-1.34498358e-01],\n",
       "        [ 1.05266891e-01],\n",
       "        [-1.41384214e-01],\n",
       "        [-1.27813458e-01],\n",
       "        [-1.15634494e-01],\n",
       "        [-2.57634670e-02],\n",
       "        [-1.12587363e-02],\n",
       "        [-3.29211652e-02],\n",
       "        [ 4.10996258e-01],\n",
       "        [-9.15179774e-03],\n",
       "        [-7.46952742e-02],\n",
       "        [ 5.62933348e-02],\n",
       "        [ 1.66110843e-01]], dtype=float32),\n",
       " array([0.0050854], dtype=float32)]"
      ]
     },
     "execution_count": 32,
     "metadata": {},
     "output_type": "execute_result"
    }
   ],
   "source": [
    "# model weights\n",
    "model.get_weights()"
   ]
  },
  {
   "cell_type": "code",
   "execution_count": 33,
   "metadata": {},
   "outputs": [],
   "source": [
    "# Decode review function\n",
    "def decode_review(encoded_review):\n",
    "    return ' '.join([reverse_word_index.get(i-3, '?') for i in encoded_review])\n",
    "\n",
    "\n",
    "# Preprocess text function\n",
    "def preprocess_text(text):\n",
    "    words = text.lower().split()\n",
    "    encoded_review = [word_index.get(word, 2)+3 for word in words]\n",
    "    padded_review = pad_sequences([encoded_review], maxlen=500)\n",
    "    return padded_review"
   ]
  },
  {
   "cell_type": "code",
   "execution_count": 73,
   "metadata": {},
   "outputs": [],
   "source": [
    "# prediction funcion\n",
    "def predict_sentiment(review):\n",
    "    preprocessed_input=preprocess_text(review)\n",
    "\n",
    "    prediction=model.predict(preprocessed_input)\n",
    "\n",
    "    if prediction[0][0] > 0.5:\n",
    "        sentiment = \"positive\"\n",
    "    elif prediction[0][0] > 0.27 and prediction[0][0] <=0.5:\n",
    "        sentiment = \"neutral\"\n",
    "    else:\n",
    "        sentiment ='Negative'\n",
    "    \n",
    "    return sentiment, prediction[0][0]\n"
   ]
  },
  {
   "cell_type": "code",
   "execution_count": 79,
   "metadata": {},
   "outputs": [
    {
     "name": "stdout",
     "output_type": "stream",
     "text": [
      "\u001b[1m1/1\u001b[0m \u001b[32m━━━━━━━━━━━━━━━━━━━━\u001b[0m\u001b[37m\u001b[0m \u001b[1m0s\u001b[0m 72ms/step\n",
      "review : the movie was fantastic the plot was awesome i love the cast\n",
      "sentiment : positive\n",
      "prediction score : 0.7102500796318054\n"
     ]
    }
   ],
   "source": [
    "# testing the model with examples\n",
    "example_review='the movie was fantastic the plot was awesome i love the cast'\n",
    "sentiment,score=predict_sentiment(example_review)\n",
    "print(f'review : {example_review}')\n",
    "print(f'sentiment : {sentiment}')\n",
    "print(f'prediction score : {score}')"
   ]
  },
  {
   "cell_type": "code",
   "execution_count": null,
   "metadata": {},
   "outputs": [],
   "source": []
  },
  {
   "cell_type": "code",
   "execution_count": null,
   "metadata": {},
   "outputs": [],
   "source": []
  },
  {
   "cell_type": "code",
   "execution_count": null,
   "metadata": {},
   "outputs": [],
   "source": []
  }
 ],
 "metadata": {
  "kernelspec": {
   "display_name": "Python 3",
   "language": "python",
   "name": "python3"
  },
  "language_info": {
   "codemirror_mode": {
    "name": "ipython",
    "version": 3
   },
   "file_extension": ".py",
   "mimetype": "text/x-python",
   "name": "python",
   "nbconvert_exporter": "python",
   "pygments_lexer": "ipython3",
   "version": "3.12.0"
  }
 },
 "nbformat": 4,
 "nbformat_minor": 2
}
